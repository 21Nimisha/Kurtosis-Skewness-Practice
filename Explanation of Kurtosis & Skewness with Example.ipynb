{
 "cells": [
  {
   "cell_type": "markdown",
   "metadata": {},
   "source": [
    "Skewness : used to describe \"Voltality\"\n",
    "Skewness is a metic which tells us about the location of dataset. that is, if you want to know where most of the values are concentrated on an ascending scale.\n",
    "\n",
    "2 kinds - Positive Skew\n",
    "          Negative Skew\n",
    "Positive Skew - in this most of the value of dataset concentrated at the beginning of the scale.\n",
    "Negative Skew - in this most ot the value of dataset concentrated at the end of the scale.\n",
    "\n",
    "\n",
    "HAVING NO SKEWNESS MEANS THE DATASET IS FAIRLY SYMMETRICAL AND HAS A BELL SHAPED CURVE."
   ]
  },
  {
   "cell_type": "markdown",
   "metadata": {},
   "source": [
    "Kurtosis :\n",
    "Kurtosis is a statistical measure thats used to describe \"TRENDS IN CHARTS\"\n",
    "Kutosis for NORMAL DISTRIBUTION is \"3\".\n",
    "\n",
    "TYPE -\n",
    "B2 < 3, for Platykurtic Distribution\n",
    "B2 = 3, for Mesokurtic Distribution\n",
    "B2 > 3, for Leptokurtic Distribution"
   ]
  },
  {
   "cell_type": "markdown",
   "metadata": {},
   "source": [
    "Q- Analyze 12 month interest rate of the investment to understand the risk factor for the future investment."
   ]
  },
  {
   "cell_type": "code",
   "execution_count": 2,
   "metadata": {},
   "outputs": [
    {
     "name": "stdout",
     "output_type": "stream",
     "text": [
      "       months   rate\n",
      "0       April  12.05\n",
      "1         May  13.00\n",
      "2        June  11.00\n",
      "3        July  18.00\n",
      "4      August  10.00\n",
      "5   September  11.50\n",
      "6     October  15.08\n",
      "7    November  21.00\n",
      "8    December   6.00\n",
      "9     January   8.00\n",
      "10   February  13.20\n",
      "11      March   7.50\n",
      "The value of the skewness is\n",
      "rate    0.641697\n",
      "dtype: float64\n"
     ]
    }
   ],
   "source": [
    "#calculate Skewness & Kurtosis in Python\n",
    "import pandas as pd\n",
    "import numpy as np\n",
    "\n",
    "# calculate Skewness\n",
    "\n",
    "# make a data frame\n",
    "data = {\n",
    "    \"months\" : ['April', 'May', 'June', 'July', 'August', 'September', 'October', 'November','December',\n",
    "               'January','February', 'March'],\n",
    "    \"rate\" : [12.05,13,11,18,10,11.5,15.08,21,6,8,13.2,7.5]\n",
    "}\n",
    "\n",
    "df = pd.DataFrame(data)\n",
    "\n",
    "print(df)\n",
    "\n",
    "# for calculating skewness from data frame \n",
    "# use this formula\n",
    "\n",
    "print(\"The value of the skewness is\")\n",
    "\n",
    "print(df.skew())"
   ]
  },
  {
   "cell_type": "code",
   "execution_count": 3,
   "metadata": {},
   "outputs": [
    {
     "name": "stdout",
     "output_type": "stream",
     "text": [
      "The value of the kurtosis is\n",
      "rate    0.241602\n",
      "dtype: float64\n"
     ]
    }
   ],
   "source": [
    "# Calculate Kurtosis\n",
    "\n",
    "from scipy.stats import kurtosis\n",
    "\n",
    "print(\"The value of the kurtosis is\")\n",
    "\n",
    "print(df.kurtosis())"
   ]
  },
  {
   "cell_type": "markdown",
   "metadata": {},
   "source": [
    "calculating the skewness & kurtosis of interest rate in python , we get the ositive skewed value and near from 0.\n",
    "The skewness of the interest rate is 0.641697\n",
    "\n",
    "The Kurtosis of the interest rate is 0.241602.\n",
    "Kurtosis is less than 3, so this is \"PLATYURTIC\" distribution.\n"
   ]
  },
  {
   "cell_type": "markdown",
   "metadata": {},
   "source": [
    "Conclusion - \n",
    " According to the output of the data the value is positively skewed. \n",
    "Positive skewness indicates a distribution with an asymmetric tail extending toward more \"Positve values\".\n",
    "ANd the Kurtosis is less than 3, it is a platykurtic distribution, positive kurtosis indicates a relatively \"PEAKED DISTRIBUTION\". and the distribution is light tails.\n",
    "\n",
    "\n"
   ]
  },
  {
   "cell_type": "code",
   "execution_count": null,
   "metadata": {},
   "outputs": [],
   "source": []
  }
 ],
 "metadata": {
  "kernelspec": {
   "display_name": "Python 3",
   "language": "python",
   "name": "python3"
  },
  "language_info": {
   "codemirror_mode": {
    "name": "ipython",
    "version": 3
   },
   "file_extension": ".py",
   "mimetype": "text/x-python",
   "name": "python",
   "nbconvert_exporter": "python",
   "pygments_lexer": "ipython3",
   "version": "3.7.3"
  }
 },
 "nbformat": 4,
 "nbformat_minor": 2
}
